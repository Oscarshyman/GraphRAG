{
 "cells": [
  {
   "cell_type": "code",
   "execution_count": 2,
   "id": "ed306b9f",
   "metadata": {},
   "outputs": [
    {
     "name": "stdout",
     "output_type": "stream",
     "text": [
      "❌ Couldn't find XML content on the page.\n"
     ]
    }
   ],
   "source": [
    "import requests\n",
    "from bs4 import BeautifulSoup\n",
    "\n",
    "url = \"https://www.ncbi.nlm.nih.gov/pmc/articles/PMC6842626/?report=xml\"\n",
    "headers = {\"User-Agent\": \"Mozilla/5.0\"}\n",
    "\n",
    "response = requests.get(url, headers=headers)\n",
    "soup = BeautifulSoup(response.text, \"html.parser\")\n",
    "\n",
    "# Extract raw XML text shown on the page\n",
    "pre_tag = soup.find(\"pre\")\n",
    "if pre_tag:\n",
    "    with open(\"PMC6842626.xml\", \"w\", encoding=\"utf-8\") as f:\n",
    "        f.write(pre_tag.text)\n",
    "    print(\"✅ Saved as PMC6842626.xml\")\n",
    "else:\n",
    "    print(\"❌ Couldn't find XML content on the page.\")\n"
   ]
  }
 ],
 "metadata": {
  "kernelspec": {
   "display_name": "Python 3",
   "language": "python",
   "name": "python3"
  },
  "language_info": {
   "codemirror_mode": {
    "name": "ipython",
    "version": 3
   },
   "file_extension": ".py",
   "mimetype": "text/x-python",
   "name": "python",
   "nbconvert_exporter": "python",
   "pygments_lexer": "ipython3",
   "version": "3.12.1"
  }
 },
 "nbformat": 4,
 "nbformat_minor": 5
}
